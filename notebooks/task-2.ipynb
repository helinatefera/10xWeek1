{
  "cells": [
    {
      "cell_type": "code",
      "execution_count": 27,
      "metadata": {
        "id": "rUa6zh1AVx6I"
      },
      "outputs": [],
      "source": [
        "import pandas as pd\n",
        "import pandas as pd\n",
        "import numpy as np\n",
        "import talib as ta\n",
        "import pynance as pn\n",
        "import pandas_datareader.data as web\n",
        "import matplotlib.pyplot as plt"
      ]
    },
    {
      "cell_type": "code",
      "execution_count": 40,
      "metadata": {
        "id": "bUOIQYjIV06W"
      },
      "outputs": [],
      "source": [
        "data = pd.read_csv('/content/GOOG_historical_data.csv')"
      ]
    },
    {
      "cell_type": "code",
      "source": [
        "data.head()"
      ],
      "metadata": {
        "colab": {
          "base_uri": "https://localhost:8080/",
          "height": 310
        },
        "id": "O5t9n6kcMolX",
        "outputId": "57338be7-ecf3-43c8-eeb7-662631f6595e"
      },
      "execution_count": 41,
      "outputs": [
        {
          "output_type": "execute_result",
          "data": {
            "text/plain": [
              "         Date      Open      High       Low     Close  Adj Close     Volume  \\\n",
              "0  2004-08-19  2.490664  2.591785  2.390042  2.499133   2.496292  897427216   \n",
              "1  2004-08-20  2.515820  2.716817  2.503118  2.697639   2.694573  458857488   \n",
              "2  2004-08-23  2.758411  2.826406  2.716070  2.724787   2.721690  366857939   \n",
              "3  2004-08-24  2.770615  2.779581  2.579581  2.611960   2.608991  306396159   \n",
              "4  2004-08-25  2.614201  2.689918  2.587302  2.640104   2.637103  184645512   \n",
              "\n",
              "   Dividends  Stock Splits  \n",
              "0        0.0           0.0  \n",
              "1        0.0           0.0  \n",
              "2        0.0           0.0  \n",
              "3        0.0           0.0  \n",
              "4        0.0           0.0  "
            ],
            "text/html": [
              "\n",
              "  <div id=\"df-cb3a7349-3991-4523-bc44-2891ba33e0e8\" class=\"colab-df-container\">\n",
              "    <div>\n",
              "<style scoped>\n",
              "    .dataframe tbody tr th:only-of-type {\n",
              "        vertical-align: middle;\n",
              "    }\n",
              "\n",
              "    .dataframe tbody tr th {\n",
              "        vertical-align: top;\n",
              "    }\n",
              "\n",
              "    .dataframe thead th {\n",
              "        text-align: right;\n",
              "    }\n",
              "</style>\n",
              "<table border=\"1\" class=\"dataframe\">\n",
              "  <thead>\n",
              "    <tr style=\"text-align: right;\">\n",
              "      <th></th>\n",
              "      <th>Date</th>\n",
              "      <th>Open</th>\n",
              "      <th>High</th>\n",
              "      <th>Low</th>\n",
              "      <th>Close</th>\n",
              "      <th>Adj Close</th>\n",
              "      <th>Volume</th>\n",
              "      <th>Dividends</th>\n",
              "      <th>Stock Splits</th>\n",
              "    </tr>\n",
              "  </thead>\n",
              "  <tbody>\n",
              "    <tr>\n",
              "      <th>0</th>\n",
              "      <td>2004-08-19</td>\n",
              "      <td>2.490664</td>\n",
              "      <td>2.591785</td>\n",
              "      <td>2.390042</td>\n",
              "      <td>2.499133</td>\n",
              "      <td>2.496292</td>\n",
              "      <td>897427216</td>\n",
              "      <td>0.0</td>\n",
              "      <td>0.0</td>\n",
              "    </tr>\n",
              "    <tr>\n",
              "      <th>1</th>\n",
              "      <td>2004-08-20</td>\n",
              "      <td>2.515820</td>\n",
              "      <td>2.716817</td>\n",
              "      <td>2.503118</td>\n",
              "      <td>2.697639</td>\n",
              "      <td>2.694573</td>\n",
              "      <td>458857488</td>\n",
              "      <td>0.0</td>\n",
              "      <td>0.0</td>\n",
              "    </tr>\n",
              "    <tr>\n",
              "      <th>2</th>\n",
              "      <td>2004-08-23</td>\n",
              "      <td>2.758411</td>\n",
              "      <td>2.826406</td>\n",
              "      <td>2.716070</td>\n",
              "      <td>2.724787</td>\n",
              "      <td>2.721690</td>\n",
              "      <td>366857939</td>\n",
              "      <td>0.0</td>\n",
              "      <td>0.0</td>\n",
              "    </tr>\n",
              "    <tr>\n",
              "      <th>3</th>\n",
              "      <td>2004-08-24</td>\n",
              "      <td>2.770615</td>\n",
              "      <td>2.779581</td>\n",
              "      <td>2.579581</td>\n",
              "      <td>2.611960</td>\n",
              "      <td>2.608991</td>\n",
              "      <td>306396159</td>\n",
              "      <td>0.0</td>\n",
              "      <td>0.0</td>\n",
              "    </tr>\n",
              "    <tr>\n",
              "      <th>4</th>\n",
              "      <td>2004-08-25</td>\n",
              "      <td>2.614201</td>\n",
              "      <td>2.689918</td>\n",
              "      <td>2.587302</td>\n",
              "      <td>2.640104</td>\n",
              "      <td>2.637103</td>\n",
              "      <td>184645512</td>\n",
              "      <td>0.0</td>\n",
              "      <td>0.0</td>\n",
              "    </tr>\n",
              "  </tbody>\n",
              "</table>\n",
              "</div>\n",
              "    <div class=\"colab-df-buttons\">\n",
              "\n",
              "  <div class=\"colab-df-container\">\n",
              "    <button class=\"colab-df-convert\" onclick=\"convertToInteractive('df-cb3a7349-3991-4523-bc44-2891ba33e0e8')\"\n",
              "            title=\"Convert this dataframe to an interactive table.\"\n",
              "            style=\"display:none;\">\n",
              "\n",
              "  <svg xmlns=\"http://www.w3.org/2000/svg\" height=\"24px\" viewBox=\"0 -960 960 960\">\n",
              "    <path d=\"M120-120v-720h720v720H120Zm60-500h600v-160H180v160Zm220 220h160v-160H400v160Zm0 220h160v-160H400v160ZM180-400h160v-160H180v160Zm440 0h160v-160H620v160ZM180-180h160v-160H180v160Zm440 0h160v-160H620v160Z\"/>\n",
              "  </svg>\n",
              "    </button>\n",
              "\n",
              "  <style>\n",
              "    .colab-df-container {\n",
              "      display:flex;\n",
              "      gap: 12px;\n",
              "    }\n",
              "\n",
              "    .colab-df-convert {\n",
              "      background-color: #E8F0FE;\n",
              "      border: none;\n",
              "      border-radius: 50%;\n",
              "      cursor: pointer;\n",
              "      display: none;\n",
              "      fill: #1967D2;\n",
              "      height: 32px;\n",
              "      padding: 0 0 0 0;\n",
              "      width: 32px;\n",
              "    }\n",
              "\n",
              "    .colab-df-convert:hover {\n",
              "      background-color: #E2EBFA;\n",
              "      box-shadow: 0px 1px 2px rgba(60, 64, 67, 0.3), 0px 1px 3px 1px rgba(60, 64, 67, 0.15);\n",
              "      fill: #174EA6;\n",
              "    }\n",
              "\n",
              "    .colab-df-buttons div {\n",
              "      margin-bottom: 4px;\n",
              "    }\n",
              "\n",
              "    [theme=dark] .colab-df-convert {\n",
              "      background-color: #3B4455;\n",
              "      fill: #D2E3FC;\n",
              "    }\n",
              "\n",
              "    [theme=dark] .colab-df-convert:hover {\n",
              "      background-color: #434B5C;\n",
              "      box-shadow: 0px 1px 3px 1px rgba(0, 0, 0, 0.15);\n",
              "      filter: drop-shadow(0px 1px 2px rgba(0, 0, 0, 0.3));\n",
              "      fill: #FFFFFF;\n",
              "    }\n",
              "  </style>\n",
              "\n",
              "    <script>\n",
              "      const buttonEl =\n",
              "        document.querySelector('#df-cb3a7349-3991-4523-bc44-2891ba33e0e8 button.colab-df-convert');\n",
              "      buttonEl.style.display =\n",
              "        google.colab.kernel.accessAllowed ? 'block' : 'none';\n",
              "\n",
              "      async function convertToInteractive(key) {\n",
              "        const element = document.querySelector('#df-cb3a7349-3991-4523-bc44-2891ba33e0e8');\n",
              "        const dataTable =\n",
              "          await google.colab.kernel.invokeFunction('convertToInteractive',\n",
              "                                                    [key], {});\n",
              "        if (!dataTable) return;\n",
              "\n",
              "        const docLinkHtml = 'Like what you see? Visit the ' +\n",
              "          '<a target=\"_blank\" href=https://colab.research.google.com/notebooks/data_table.ipynb>data table notebook</a>'\n",
              "          + ' to learn more about interactive tables.';\n",
              "        element.innerHTML = '';\n",
              "        dataTable['output_type'] = 'display_data';\n",
              "        await google.colab.output.renderOutput(dataTable, element);\n",
              "        const docLink = document.createElement('div');\n",
              "        docLink.innerHTML = docLinkHtml;\n",
              "        element.appendChild(docLink);\n",
              "      }\n",
              "    </script>\n",
              "  </div>\n",
              "\n",
              "\n",
              "<div id=\"df-d64f8f67-8a82-4c4a-935f-25cd4d0c22ce\">\n",
              "  <button class=\"colab-df-quickchart\" onclick=\"quickchart('df-d64f8f67-8a82-4c4a-935f-25cd4d0c22ce')\"\n",
              "            title=\"Suggest charts\"\n",
              "            style=\"display:none;\">\n",
              "\n",
              "<svg xmlns=\"http://www.w3.org/2000/svg\" height=\"24px\"viewBox=\"0 0 24 24\"\n",
              "     width=\"24px\">\n",
              "    <g>\n",
              "        <path d=\"M19 3H5c-1.1 0-2 .9-2 2v14c0 1.1.9 2 2 2h14c1.1 0 2-.9 2-2V5c0-1.1-.9-2-2-2zM9 17H7v-7h2v7zm4 0h-2V7h2v10zm4 0h-2v-4h2v4z\"/>\n",
              "    </g>\n",
              "</svg>\n",
              "  </button>\n",
              "\n",
              "<style>\n",
              "  .colab-df-quickchart {\n",
              "      --bg-color: #E8F0FE;\n",
              "      --fill-color: #1967D2;\n",
              "      --hover-bg-color: #E2EBFA;\n",
              "      --hover-fill-color: #174EA6;\n",
              "      --disabled-fill-color: #AAA;\n",
              "      --disabled-bg-color: #DDD;\n",
              "  }\n",
              "\n",
              "  [theme=dark] .colab-df-quickchart {\n",
              "      --bg-color: #3B4455;\n",
              "      --fill-color: #D2E3FC;\n",
              "      --hover-bg-color: #434B5C;\n",
              "      --hover-fill-color: #FFFFFF;\n",
              "      --disabled-bg-color: #3B4455;\n",
              "      --disabled-fill-color: #666;\n",
              "  }\n",
              "\n",
              "  .colab-df-quickchart {\n",
              "    background-color: var(--bg-color);\n",
              "    border: none;\n",
              "    border-radius: 50%;\n",
              "    cursor: pointer;\n",
              "    display: none;\n",
              "    fill: var(--fill-color);\n",
              "    height: 32px;\n",
              "    padding: 0;\n",
              "    width: 32px;\n",
              "  }\n",
              "\n",
              "  .colab-df-quickchart:hover {\n",
              "    background-color: var(--hover-bg-color);\n",
              "    box-shadow: 0 1px 2px rgba(60, 64, 67, 0.3), 0 1px 3px 1px rgba(60, 64, 67, 0.15);\n",
              "    fill: var(--button-hover-fill-color);\n",
              "  }\n",
              "\n",
              "  .colab-df-quickchart-complete:disabled,\n",
              "  .colab-df-quickchart-complete:disabled:hover {\n",
              "    background-color: var(--disabled-bg-color);\n",
              "    fill: var(--disabled-fill-color);\n",
              "    box-shadow: none;\n",
              "  }\n",
              "\n",
              "  .colab-df-spinner {\n",
              "    border: 2px solid var(--fill-color);\n",
              "    border-color: transparent;\n",
              "    border-bottom-color: var(--fill-color);\n",
              "    animation:\n",
              "      spin 1s steps(1) infinite;\n",
              "  }\n",
              "\n",
              "  @keyframes spin {\n",
              "    0% {\n",
              "      border-color: transparent;\n",
              "      border-bottom-color: var(--fill-color);\n",
              "      border-left-color: var(--fill-color);\n",
              "    }\n",
              "    20% {\n",
              "      border-color: transparent;\n",
              "      border-left-color: var(--fill-color);\n",
              "      border-top-color: var(--fill-color);\n",
              "    }\n",
              "    30% {\n",
              "      border-color: transparent;\n",
              "      border-left-color: var(--fill-color);\n",
              "      border-top-color: var(--fill-color);\n",
              "      border-right-color: var(--fill-color);\n",
              "    }\n",
              "    40% {\n",
              "      border-color: transparent;\n",
              "      border-right-color: var(--fill-color);\n",
              "      border-top-color: var(--fill-color);\n",
              "    }\n",
              "    60% {\n",
              "      border-color: transparent;\n",
              "      border-right-color: var(--fill-color);\n",
              "    }\n",
              "    80% {\n",
              "      border-color: transparent;\n",
              "      border-right-color: var(--fill-color);\n",
              "      border-bottom-color: var(--fill-color);\n",
              "    }\n",
              "    90% {\n",
              "      border-color: transparent;\n",
              "      border-bottom-color: var(--fill-color);\n",
              "    }\n",
              "  }\n",
              "</style>\n",
              "\n",
              "  <script>\n",
              "    async function quickchart(key) {\n",
              "      const quickchartButtonEl =\n",
              "        document.querySelector('#' + key + ' button');\n",
              "      quickchartButtonEl.disabled = true;  // To prevent multiple clicks.\n",
              "      quickchartButtonEl.classList.add('colab-df-spinner');\n",
              "      try {\n",
              "        const charts = await google.colab.kernel.invokeFunction(\n",
              "            'suggestCharts', [key], {});\n",
              "      } catch (error) {\n",
              "        console.error('Error during call to suggestCharts:', error);\n",
              "      }\n",
              "      quickchartButtonEl.classList.remove('colab-df-spinner');\n",
              "      quickchartButtonEl.classList.add('colab-df-quickchart-complete');\n",
              "    }\n",
              "    (() => {\n",
              "      let quickchartButtonEl =\n",
              "        document.querySelector('#df-d64f8f67-8a82-4c4a-935f-25cd4d0c22ce button');\n",
              "      quickchartButtonEl.style.display =\n",
              "        google.colab.kernel.accessAllowed ? 'block' : 'none';\n",
              "    })();\n",
              "  </script>\n",
              "</div>\n",
              "\n",
              "    </div>\n",
              "  </div>\n"
            ],
            "application/vnd.google.colaboratory.intrinsic+json": {
              "type": "dataframe",
              "variable_name": "data",
              "summary": "{\n  \"name\": \"data\",\n  \"rows\": 5020,\n  \"fields\": [\n    {\n      \"column\": \"Date\",\n      \"properties\": {\n        \"dtype\": \"object\",\n        \"num_unique_values\": 5020,\n        \"samples\": [\n          \"2010-08-10\",\n          \"2006-10-06\",\n          \"2018-09-26\"\n        ],\n        \"semantic_type\": \"\",\n        \"description\": \"\"\n      }\n    },\n    {\n      \"column\": \"Open\",\n      \"properties\": {\n        \"dtype\": \"number\",\n        \"std\": 43.33863516599722,\n        \"min\": 2.470489978790283,\n        \"max\": 191.75,\n        \"num_unique_values\": 4865,\n        \"samples\": [\n          21.45159339904785,\n          88.54499816894531,\n          28.256000518798828\n        ],\n        \"semantic_type\": \"\",\n        \"description\": \"\"\n      }\n    },\n    {\n      \"column\": \"High\",\n      \"properties\": {\n        \"dtype\": \"number\",\n        \"std\": 43.818297790395775,\n        \"min\": 2.5340020656585693,\n        \"max\": 193.30999755859372,\n        \"num_unique_values\": 4869,\n        \"samples\": [\n          75.32949829101562,\n          8.961409568786621,\n          10.022433280944824\n        ],\n        \"semantic_type\": \"\",\n        \"description\": \"\"\n      }\n    },\n    {\n      \"column\": \"Low\",\n      \"properties\": {\n        \"dtype\": \"number\",\n        \"std\": 42.91816688967572,\n        \"min\": 2.3900420665740967,\n        \"max\": 190.6199951171875,\n        \"num_unique_values\": 4904,\n        \"samples\": [\n          127.7750015258789,\n          55.63850021362305,\n          13.207743644714355\n        ],\n        \"semantic_type\": \"\",\n        \"description\": \"\"\n      }\n    },\n    {\n      \"column\": \"Close\",\n      \"properties\": {\n        \"dtype\": \"number\",\n        \"std\": 43.377299121681894,\n        \"min\": 2.490912914276123,\n        \"max\": 192.66000366210935,\n        \"num_unique_values\": 4923,\n        \"samples\": [\n          9.130526542663574,\n          169.16000366210938,\n          14.623686790466309\n        ],\n        \"semantic_type\": \"\",\n        \"description\": \"\"\n      }\n    },\n    {\n      \"column\": \"Adj Close\",\n      \"properties\": {\n        \"dtype\": \"number\",\n        \"std\": 43.332534456050446,\n        \"min\": 2.488081693649292,\n        \"max\": 192.66000366210935,\n        \"num_unique_values\": 4923,\n        \"samples\": [\n          9.12014865875244,\n          169.16000366210938,\n          14.607064247131348\n        ],\n        \"semantic_type\": \"\",\n        \"description\": \"\"\n      }\n    },\n    {\n      \"column\": \"Volume\",\n      \"properties\": {\n        \"dtype\": \"number\",\n        \"std\": 149793615,\n        \"min\": 158434,\n        \"max\": 1650832619,\n        \"num_unique_values\": 4907,\n        \"samples\": [\n          16836000,\n          49508000,\n          178522648\n        ],\n        \"semantic_type\": \"\",\n        \"description\": \"\"\n      }\n    },\n    {\n      \"column\": \"Dividends\",\n      \"properties\": {\n        \"dtype\": \"number\",\n        \"std\": 0.002822787184688185,\n        \"min\": 0.0,\n        \"max\": 0.2,\n        \"num_unique_values\": 2,\n        \"samples\": [\n          0.2,\n          0.0\n        ],\n        \"semantic_type\": \"\",\n        \"description\": \"\"\n      }\n    },\n    {\n      \"column\": \"Stock Splits\",\n      \"properties\": {\n        \"dtype\": \"number\",\n        \"std\": 0.2840335383700698,\n        \"min\": 0.0,\n        \"max\": 20.0,\n        \"num_unique_values\": 4,\n        \"samples\": [\n          2.002,\n          20.0\n        ],\n        \"semantic_type\": \"\",\n        \"description\": \"\"\n      }\n    }\n  ]\n}"
            }
          },
          "metadata": {},
          "execution_count": 41
        }
      ]
    },
    {
      "cell_type": "markdown",
      "source": [
        "### Data cleaning\n",
        "1.  check if the cloumn Dividends and Stock Split have null value"
      ],
      "metadata": {
        "id": "hqfDdDAyNtNi"
      }
    },
    {
      "cell_type": "code",
      "source": [
        "# check if all values in 'Dividends' and 'Stock Splits' are 0 or NaN\n",
        "dividends_empty = data['Dividends'].eq(0).all() or data['Dividends'].isnull().all()\n",
        "stock_splits_empty = data['Stock Splits'].eq(0).all() or data['Stock Splits'].isnull().all()\n",
        "\n",
        "print(f\"Dividends column is empty: {dividends_empty}\")\n",
        "print(f\"Stock Splits column is empty: {stock_splits_empty}\")"
      ],
      "metadata": {
        "colab": {
          "base_uri": "https://localhost:8080/"
        },
        "id": "felHV5ZXMsq8",
        "outputId": "5ecf31b2-9a8e-4457-c036-5b7e39ff1f6d"
      },
      "execution_count": 42,
      "outputs": [
        {
          "output_type": "stream",
          "name": "stdout",
          "text": [
            "Dividends column is empty: False\n",
            "Stock Splits column is empty: False\n"
          ]
        }
      ]
    },
    {
      "cell_type": "code",
      "source": [
        "# see rows where 'Dividends' or 'Stock Splits' are not 0 or NaN\n",
        "non_empty_dividends = data[data['Dividends'] != 0]\n",
        "non_empty_splits = data[data['Stock Splits'] != 0]\n",
        "\n",
        "print(\"Rows with non-zero Dividends:\")\n",
        "print(len(non_empty_dividends))\n",
        "\n",
        "print(\"\\nRows with non-zero Stock Splits:\")\n",
        "print(len(non_empty_splits))\n"
      ],
      "metadata": {
        "colab": {
          "base_uri": "https://localhost:8080/"
        },
        "id": "UwVrso9fMtWr",
        "outputId": "fcc0b7bb-12ef-4332-e2d0-90a2fd8259f4"
      },
      "execution_count": 43,
      "outputs": [
        {
          "output_type": "stream",
          "name": "stdout",
          "text": [
            "Rows with non-zero Dividends:\n",
            "1\n",
            "\n",
            "Rows with non-zero Stock Splits:\n",
            "3\n"
          ]
        }
      ]
    },
    {
      "cell_type": "markdown",
      "source": [
        "Delete Column Dividends and Stock Splits"
      ],
      "metadata": {
        "id": "XdBRDVg8ONM6"
      }
    },
    {
      "cell_type": "code",
      "source": [
        "#total dataset\n",
        "len(data)"
      ],
      "metadata": {
        "colab": {
          "base_uri": "https://localhost:8080/"
        },
        "id": "i1A86lp7NTCH",
        "outputId": "51aff3eb-fcc9-4ab7-a498-b30b22047c1d"
      },
      "execution_count": 44,
      "outputs": [
        {
          "output_type": "execute_result",
          "data": {
            "text/plain": [
              "5020"
            ]
          },
          "metadata": {},
          "execution_count": 44
        }
      ]
    },
    {
      "cell_type": "code",
      "source": [
        "print(data.head())"
      ],
      "metadata": {
        "colab": {
          "base_uri": "https://localhost:8080/"
        },
        "id": "5F-bfZ0iNma5",
        "outputId": "d297b418-be20-4acf-e8e8-0103cdd5ed90"
      },
      "execution_count": 45,
      "outputs": [
        {
          "output_type": "stream",
          "name": "stdout",
          "text": [
            "         Date      Open      High       Low     Close  Adj Close     Volume  \\\n",
            "0  2004-08-19  2.490664  2.591785  2.390042  2.499133   2.496292  897427216   \n",
            "1  2004-08-20  2.515820  2.716817  2.503118  2.697639   2.694573  458857488   \n",
            "2  2004-08-23  2.758411  2.826406  2.716070  2.724787   2.721690  366857939   \n",
            "3  2004-08-24  2.770615  2.779581  2.579581  2.611960   2.608991  306396159   \n",
            "4  2004-08-25  2.614201  2.689918  2.587302  2.640104   2.637103  184645512   \n",
            "\n",
            "   Dividends  Stock Splits  \n",
            "0        0.0           0.0  \n",
            "1        0.0           0.0  \n",
            "2        0.0           0.0  \n",
            "3        0.0           0.0  \n",
            "4        0.0           0.0  \n"
          ]
        }
      ]
    },
    {
      "cell_type": "code",
      "source": [
        "data.drop(['Dividends', 'Stock Splits'], axis=1, inplace=True)"
      ],
      "metadata": {
        "id": "FLpiYg1mVwg2"
      },
      "execution_count": 48,
      "outputs": []
    },
    {
      "cell_type": "markdown",
      "source": [
        "### Simple Moving Average (SMA)\n",
        "A rising SMA indicates an uptrend, while a falling SMA suggests a downtrend. When the stock price crosses above the SMA, it may signal a buying opportunity (bullish signal). Conversely, when the stock price crosses below the SMA, it could signal a sell opportunity (bearish signal).\n",
        "The **SMA** is the unweighted average of the previous n data points. For example, the 50-day SMA is the average of the last 50 closing prices.\n",
        "#### **Formula for SMA**:\n",
        "SMA_t = (P_1 + P_2 + P_3 + ... + P_n) / n\n",
        "\n",
        "##### **Where**:\n",
        "\n",
        "- P_t is the closing price at time t,\n",
        "- n is the number of periods (e.g., 50 for SMA_50),\n",
        "- The sum is over the last n closing prices."
      ],
      "metadata": {
        "id": "evGvJg5DR_Iv"
      }
    },
    {
      "cell_type": "code",
      "source": [
        "# Calculate 50-day Simple Moving Average (SMA)\n",
        "data['SMA_50'] = ta.SMA(data['Close'], timeperiod=50)\n",
        "\n",
        "# Calculate 200-day Simple Moving Average (SMA)\n",
        "data['SMA_200'] = ta.SMA(data['Close'], timeperiod=200)\n",
        "\n",
        "print(data[['Close', 'SMA_50', 'SMA_200']].tail())  # Shows the last few rows\n"
      ],
      "metadata": {
        "colab": {
          "base_uri": "https://localhost:8080/"
        },
        "id": "sD26otLLPcbh",
        "outputId": "a6fec2a4-2746-4e48-99d9-38a9101f73bb"
      },
      "execution_count": 60,
      "outputs": [
        {
          "output_type": "stream",
          "name": "stdout",
          "text": [
            "           Close    SMA_50    SMA_200\n",
            "5015  174.369995  180.3948  153.41530\n",
            "5016  169.160004  180.3600  153.56745\n",
            "5017  168.679993  180.2950  153.71335\n",
            "5018  171.130005  180.2400  153.87300\n",
            "5019  171.860001  180.1686  154.02380\n"
          ]
        }
      ]
    },
    {
      "cell_type": "markdown",
      "source": [
        "### Row 5015:\n",
        "\n",
        "- **Stock's Closing Price**: 174.37\n",
        "- **SMA_50**: 180.39  \n",
        "  - The 50-day average closing price is higher than the current closing price.\n",
        "- **SMA_200**: 153.42  \n",
        "  - This shows a significant gap, implying the stock is above its long-term average.\n",
        "  \n",
        "In summary, the stock appears to be above its long-term moving averages but has slightly declined recently based on the SMA_50\n"
      ],
      "metadata": {
        "id": "gH6iJizNXroD"
      }
    },
    {
      "cell_type": "markdown",
      "source": [
        "### **Relative Strength Index**: is a momentum oscillator that measures the speed and change of price movements. It is used to evaluate the strength or weakness of a stock based on its recent price performance.\n",
        "\n",
        "#### Key Points:\n",
        "- **RSI Range**: The RSI values range from **0 to 100**.\n",
        "  - **Above 70**: The stock is considered **overbought**, indicating potential for a price correction.\n",
        "  - **Below 30**: The stock is considered **oversold**, suggesting potential for a price rebound.\n",
        "  - **Between 30 and 70**: The stock is in a **neutral zone**, indicating no immediate overbought or oversold conditions.\n",
        "#### Calculation Formula:\n",
        "The RSI is calculated using the following formula:\n",
        "\n",
        "RSI = 100 - (100 / (1 + RS))\n",
        "Where:\n",
        "- `n` days' up closes divided by the average\n",
        "- `n` days' down closes.\n"
      ],
      "metadata": {
        "id": "wc1EmNVQYyGV"
      }
    },
    {
      "cell_type": "code",
      "source": [
        "# Calculate the 14-day RSI\n",
        "data['RSI_14'] = ta.RSI(data['Close'], timeperiod=14)\n",
        "\n",
        "print(data[['Close', 'RSI_14']].tail())\n"
      ],
      "metadata": {
        "colab": {
          "base_uri": "https://localhost:8080/"
        },
        "id": "Y0As91-WU9W2",
        "outputId": "f41725bf-b33e-4dd3-9728-7f375f115da3"
      },
      "execution_count": 61,
      "outputs": [
        {
          "output_type": "stream",
          "name": "stdout",
          "text": [
            "           Close     RSI_14\n",
            "5015  174.369995  37.434718\n",
            "5016  169.160004  32.279082\n",
            "5017  168.679993  31.843937\n",
            "5018  171.130005  36.545844\n",
            "5019  171.860001  37.920068\n"
          ]
        }
      ]
    },
    {
      "cell_type": "markdown",
      "source": [
        "- **Row 5015**: The **RSI** is **37.43**, which is below 50 and close to the **30 level**, indicating the stock is in the **oversold** territory but not yet at a critical level."
      ],
      "metadata": {
        "id": "TolJ1_5zaC3j"
      }
    },
    {
      "cell_type": "code",
      "source": [],
      "metadata": {
        "id": "8NAhqBTFY06o"
      },
      "execution_count": null,
      "outputs": []
    }
  ],
  "metadata": {
    "colab": {
      "provenance": []
    },
    "kernelspec": {
      "display_name": "Python 3",
      "name": "python3"
    },
    "language_info": {
      "name": "python"
    }
  },
  "nbformat": 4,
  "nbformat_minor": 0
}